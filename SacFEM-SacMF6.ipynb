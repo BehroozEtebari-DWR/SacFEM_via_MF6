{
 "cells": [
  {
   "cell_type": "code",
   "execution_count": 1,
   "id": "7d3dd4f5",
   "metadata": {},
   "outputs": [],
   "source": [
    "import numpy as np\n",
    "import pandas as pd"
   ]
  },
  {
   "cell_type": "code",
   "execution_count": 2,
   "id": "0889e4ba",
   "metadata": {},
   "outputs": [
    {
     "name": "stdout",
     "output_type": "stream",
     "text": [
      "        Cell-ID  Node-ID\n",
      "0             1    77714\n",
      "1             1    77715\n",
      "2             1    78532\n",
      "3             2    76902\n",
      "4             2    77714\n",
      "...         ...      ...\n",
      "920453   306818    61449\n",
      "920454   306818    61465\n",
      "920455   306819   113209\n",
      "920456   306819   114383\n",
      "920457   306819   114384\n",
      "\n",
      "[920458 rows x 2 columns]\n"
     ]
    }
   ],
   "source": [
    "df = pd.read_csv ('spatial join.csv')\n",
    "print (df)"
   ]
  },
  {
   "cell_type": "code",
   "execution_count": 6,
   "id": "47142f6a",
   "metadata": {},
   "outputs": [
    {
     "data": {
      "text/plain": [
       "Cell-ID\n",
       "1            [77714, 77715, 78532]\n",
       "2            [76902, 77714, 77715]\n",
       "3            [77715, 77741, 78532]\n",
       "4            [77743, 78563, 78564]\n",
       "5            [76902, 76903, 77716]\n",
       "                    ...           \n",
       "306815       [72810, 73197, 73694]\n",
       "306816       [88990, 88991, 90051]\n",
       "306817    [108853, 108872, 110082]\n",
       "306818       [61448, 61449, 61465]\n",
       "306819    [113209, 114383, 114384]\n",
       "Name: Node-ID, Length: 306819, dtype: object"
      ]
     },
     "execution_count": 6,
     "metadata": {},
     "output_type": "execute_result"
    }
   ],
   "source": [
    "df.groupby('Cell-ID')['Node-ID'].apply(list)"
   ]
  },
  {
   "cell_type": "code",
   "execution_count": 8,
   "id": "ec7872c8",
   "metadata": {},
   "outputs": [],
   "source": [
    "df1 = df.groupby('Cell-ID')['Node-ID'].apply(list).reset_index(name='new')"
   ]
  },
  {
   "cell_type": "code",
   "execution_count": 10,
   "id": "173a0698",
   "metadata": {},
   "outputs": [
    {
     "name": "stdout",
     "output_type": "stream",
     "text": [
      "        Cell-ID                       new\n",
      "0             1     [77714, 77715, 78532]\n",
      "1             2     [76902, 77714, 77715]\n",
      "2             3     [77715, 77741, 78532]\n",
      "3             4     [77743, 78563, 78564]\n",
      "4             5     [76902, 76903, 77716]\n",
      "...         ...                       ...\n",
      "306814   306815     [72810, 73197, 73694]\n",
      "306815   306816     [88990, 88991, 90051]\n",
      "306816   306817  [108853, 108872, 110082]\n",
      "306817   306818     [61448, 61449, 61465]\n",
      "306818   306819  [113209, 114383, 114384]\n",
      "\n",
      "[306819 rows x 2 columns]\n"
     ]
    }
   ],
   "source": [
    "print(df1)"
   ]
  },
  {
   "cell_type": "code",
   "execution_count": 11,
   "id": "075b457d",
   "metadata": {},
   "outputs": [],
   "source": [
    "df1.to_csv(\"SacMF6_elements.csv\")"
   ]
  },
  {
   "cell_type": "code",
   "execution_count": null,
   "id": "c8a1b8bf",
   "metadata": {},
   "outputs": [],
   "source": []
  }
 ],
 "metadata": {
  "kernelspec": {
   "display_name": "Python 3 (ipykernel)",
   "language": "python",
   "name": "python3"
  },
  "language_info": {
   "codemirror_mode": {
    "name": "ipython",
    "version": 3
   },
   "file_extension": ".py",
   "mimetype": "text/x-python",
   "name": "python",
   "nbconvert_exporter": "python",
   "pygments_lexer": "ipython3",
   "version": "3.11.5"
  }
 },
 "nbformat": 4,
 "nbformat_minor": 5
}
